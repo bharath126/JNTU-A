{
 "cells": [
  {
   "cell_type": "markdown",
   "metadata": {},
   "source": [
    "# This is First Heading\n",
    "## This is Second Heading\n",
    "### This is Third Heading"
   ]
  },
  {
   "cell_type": "markdown",
   "metadata": {},
   "source": [
    "# APSSDC Courses\n",
    "    - Python\n",
    "        - Python Web Apllication using Flask\n",
    "        - Python Web Apllication Using Django\n",
    "        - Ml(Machine Learning)\n",
    "        - Data Science(DS)\n",
    "    - C\n",
    "    - Data Strucures\n",
    "    - AWS\n",
    "    - Gaming\n",
    "    - Git"
   ]
  },
  {
   "cell_type": "code",
   "execution_count": 1,
   "metadata": {},
   "outputs": [
    {
     "name": "stdout",
     "output_type": "stream",
     "text": [
      "Hello\n"
     ]
    }
   ],
   "source": [
    "print(\"Hello\")"
   ]
  },
  {
   "cell_type": "code",
   "execution_count": 3,
   "metadata": {},
   "outputs": [],
   "source": [
    "a=50"
   ]
  },
  {
   "cell_type": "markdown",
   "metadata": {},
   "source": [
    "Change Markdown mode-->esc+m\n",
    "Run cell -->shift+enter\n",
    "add below cell -->esc+b\n",
    "add above cell -->esc+a\n",
    "Delete Cell -->esc+2D"
   ]
  },
  {
   "cell_type": "markdown",
   "metadata": {},
   "source": [
    "## File Handling\n",
    "    --> Write\n",
    "    --> read\n",
    "    --> append"
   ]
  },
  {
   "cell_type": "code",
   "execution_count": 5,
   "metadata": {},
   "outputs": [
    {
     "name": "stdout",
     "output_type": "stream",
     "text": [
      "Enter Somthing...!!!hii this is vijay from apssdc\n"
     ]
    }
   ],
   "source": [
    "# Data Storing into File\n",
    "data=open('mydata.txt','w')\n",
    "mydata=input(\"Enter Somthing...!!!\")\n",
    "data.write(mydata)\n",
    "data.close()"
   ]
  },
  {
   "cell_type": "code",
   "execution_count": 6,
   "metadata": {},
   "outputs": [
    {
     "name": "stdout",
     "output_type": "stream",
     "text": [
      "hii this is vijay from apssdc\n"
     ]
    }
   ],
   "source": [
    "# Data Retriving/Display to the console\n",
    "data=open('mydata.txt','r')\n",
    "mydata=data.read()\n",
    "print(mydata)\n",
    "data.close()"
   ]
  },
  {
   "cell_type": "code",
   "execution_count": 13,
   "metadata": {},
   "outputs": [
    {
     "name": "stdout",
     "output_type": "stream",
     "text": [
      "hii this is vijay from apssdc\n"
     ]
    }
   ],
   "source": [
    "with open('mydata.txt','r') as data:\n",
    "    mydata=data.read()\n",
    "    print(mydata)\n",
    "    "
   ]
  },
  {
   "cell_type": "code",
   "execution_count": 11,
   "metadata": {},
   "outputs": [
    {
     "name": "stdout",
     "output_type": "stream",
     "text": [
      "Enter Somthing..!!!hello jntua pulivendula..!!\n"
     ]
    }
   ],
   "source": [
    "with open('mydata2.txt','w') as data:\n",
    "    mydata=input(\"Enter Somthing..!!!\")\n",
    "    data.write(mydata)"
   ]
  },
  {
   "cell_type": "code",
   "execution_count": 21,
   "metadata": {},
   "outputs": [
    {
     "name": "stdout",
     "output_type": "stream",
     "text": [
      "hello jntua pulivendula..!!\n"
     ]
    }
   ],
   "source": [
    "with open('mydata2.txt','r') as data:\n",
    "    mydata2=data.read()\n",
    "    print(mydata2)"
   ]
  },
  {
   "cell_type": "code",
   "execution_count": 15,
   "metadata": {},
   "outputs": [
    {
     "name": "stdout",
     "output_type": "stream",
     "text": [
      "hii this is vijay from apssdchello jntua pulivendula..!!\n"
     ]
    }
   ],
   "source": [
    "print(mydata+mydata2)"
   ]
  },
  {
   "cell_type": "code",
   "execution_count": 16,
   "metadata": {},
   "outputs": [],
   "source": [
    "with open('mixeddata.txt','w') as f:\n",
    "    f.write(mydata+mydata2)"
   ]
  },
  {
   "cell_type": "code",
   "execution_count": 17,
   "metadata": {},
   "outputs": [
    {
     "name": "stdout",
     "output_type": "stream",
     "text": [
      "hii this is vijay from apssdchello jntua pulivendula..!!\n"
     ]
    }
   ],
   "source": [
    "with open('mixeddata.txt','r') as f:\n",
    "    print(f.read())"
   ]
  },
  {
   "cell_type": "markdown",
   "metadata": {},
   "source": [
    "### Finding Word count"
   ]
  },
  {
   "cell_type": "code",
   "execution_count": 25,
   "metadata": {},
   "outputs": [
    {
     "name": "stdout",
     "output_type": "stream",
     "text": [
      "8\n"
     ]
    }
   ],
   "source": [
    "with open('mixeddata.txt','r') as f_data:\n",
    "    data=f_data.read()\n",
    "    data=data.split()\n",
    "    print(len(data))\n",
    "    \n",
    "    "
   ]
  },
  {
   "cell_type": "code",
   "execution_count": 24,
   "metadata": {},
   "outputs": [
    {
     "name": "stdout",
     "output_type": "stream",
     "text": [
      "['hii', 'this', 'is', 'vijay', 'from', 'apssdchello', 'jntua', 'pulivendula..!!']\n",
      "8\n"
     ]
    }
   ],
   "source": [
    "data=\"hii this is vijay from apssdchello jntua pulivendula..!!\"\n",
    "data=data.split()\n",
    "print(data)\n",
    "print(len(data))"
   ]
  },
  {
   "cell_type": "code",
   "execution_count": 26,
   "metadata": {},
   "outputs": [
    {
     "data": {
      "text/plain": [
       "['hii',\n",
       " 'this',\n",
       " 'is',\n",
       " 'vijay',\n",
       " 'from',\n",
       " 'apssdchello',\n",
       " 'jntua',\n",
       " 'pulivendula..!!']"
      ]
     },
     "execution_count": 26,
     "metadata": {},
     "output_type": "execute_result"
    }
   ],
   "source": [
    "data"
   ]
  },
  {
   "cell_type": "code",
   "execution_count": 29,
   "metadata": {},
   "outputs": [
    {
     "name": "stdout",
     "output_type": "stream",
     "text": [
      "hii\n",
      "is\n"
     ]
    }
   ],
   "source": [
    "print(data[0])\n",
    "print(data[2])"
   ]
  },
  {
   "cell_type": "markdown",
   "metadata": {},
   "source": [
    "# To Find no of Charaters in the file"
   ]
  },
  {
   "cell_type": "code",
   "execution_count": 51,
   "metadata": {},
   "outputs": [
    {
     "name": "stdout",
     "output_type": "stream",
     "text": [
      "1). hii count--> 3\n",
      "2). this count--> 4\n",
      "3). is count--> 2\n",
      "4). vijay count--> 5\n",
      "5). from count--> 4\n",
      "6). apssdchello count--> 11\n",
      "7). jntua count--> 5\n",
      "8). pulivendula..!! count--> 15\n",
      "Total Charaters Count is  49\n"
     ]
    }
   ],
   "source": [
    "t_count=0\n",
    "for i in range(len(data)):\n",
    "    print(str(i+1)+\").\",data[i],\"count-->\",len(data[i]))\n",
    "    t_count=t_count+len(data[i])\n",
    "print(\"Total Charaters Count is \",t_count)"
   ]
  },
  {
   "cell_type": "markdown",
   "metadata": {},
   "source": [
    "task-->1\n",
    "    input:insert different data in to file like-->combination int,charate,special\n",
    "        ex:ABChello123@!#$%^\n",
    "    output:Total Charaters Count is -->8\n",
    "            small letters-->5\n",
    "            capital Letters-->3\n",
    "            integers-->3\n",
    "            special -->6\n",
    "            total-->25\n",
    "    "
   ]
  },
  {
   "cell_type": "markdown",
   "metadata": {},
   "source": [
    "task--->2\n",
    "\n",
    "input:hi hello welcome to appssdc 3 days of workshop\n",
    "output:ih olleh emoclew ot cdssppa 3 syad fo pohskorw\n",
    "        "
   ]
  },
  {
   "cell_type": "code",
   "execution_count": null,
   "metadata": {},
   "outputs": [],
   "source": [
    "task-->3\n",
    "input:123 152 3698 1478 15841 2697\n",
    "output:6 8 26 20 19 24"
   ]
  },
  {
   "cell_type": "code",
   "execution_count": null,
   "metadata": {},
   "outputs": [],
   "source": [
    "Task-->4\n",
    "input:123 152 3698 1478 15841 2697\n",
    "output:3  2    8    8     1     7 -->29"
   ]
  },
  {
   "cell_type": "code",
   "execution_count": 77,
   "metadata": {},
   "outputs": [
    {
     "name": "stdout",
     "output_type": "stream",
     "text": [
      "3 2 8 8 1 7 ---> 29\n"
     ]
    }
   ],
   "source": [
    "data=\"123 152 3698 1478 15841 2697\"\n",
    "data=data.split()\n",
    "s=0\n",
    "for eachdata in data:\n",
    "    print(eachdata[-1],end=\" \")\n",
    "    s=s+int(eachdata[-1])\n",
    "print(\"--->\",s)"
   ]
  },
  {
   "cell_type": "code",
   "execution_count": null,
   "metadata": {},
   "outputs": [],
   "source": [
    "Task-->5\n",
    "1-->!\n",
    "2-->@\n",
    "3-->#\n",
    "4-->$\n",
    "5-->%\n",
    "6-->^\n",
    "7-->&\n",
    "8-->*\n",
    "9-->(\n",
    "0-->)\n",
    "\n",
    "input:8765431234\n",
    "ouput:*&^%$#!@#$\n",
    "    \n",
    "input:*&^%$#!@#$\n",
    "output:8765431234"
   ]
  },
  {
   "cell_type": "code",
   "execution_count": null,
   "metadata": {},
   "outputs": [],
   "source": [
    "http://engineering.apssdc.in/register"
   ]
  },
  {
   "cell_type": "code",
   "execution_count": 69,
   "metadata": {},
   "outputs": [
    {
     "data": {
      "text/plain": [
       "'o'"
      ]
     },
     "execution_count": 69,
     "metadata": {},
     "output_type": "execute_result"
    }
   ],
   "source": [
    "data=\"python\"\n",
    "data[-2]"
   ]
  },
  {
   "cell_type": "code",
   "execution_count": 73,
   "metadata": {},
   "outputs": [
    {
     "name": "stdout",
     "output_type": "stream",
     "text": [
      "3\n",
      "2\n",
      "5\n"
     ]
    }
   ],
   "source": [
    "data=123\n",
    "data=str(data)\n",
    "print(int(data[-1]))\n",
    "data2=152\n",
    "data2=str(data2)\n",
    "print(int(data2[-1]))\n",
    "\n",
    "print(int(data[-1])+int(data2[-1]))"
   ]
  },
  {
   "cell_type": "markdown",
   "metadata": {},
   "source": [
    "data=123\n",
    "data=str(data)\n",
    "data=list(data)\n",
    "data=list(map(int,data))\n",
    "sum(data)"
   ]
  },
  {
   "cell_type": "code",
   "execution_count": 64,
   "metadata": {},
   "outputs": [
    {
     "name": "stdout",
     "output_type": "stream",
     "text": [
      "6 8 26 20 19 24 "
     ]
    }
   ],
   "source": [
    "data=\"123 152 3698 1478 15841 2697\"\n",
    "T_data=data.split()\n",
    "for data in T_data:\n",
    "    print(sum(list(map(int,list(data)))),end=\" \")"
   ]
  },
  {
   "cell_type": "code",
   "execution_count": null,
   "metadata": {},
   "outputs": [],
   "source": []
  },
  {
   "cell_type": "code",
   "execution_count": 31,
   "metadata": {},
   "outputs": [
    {
     "name": "stdout",
     "output_type": "stream",
     "text": [
      "1\n",
      "2\n",
      "3\n",
      "4\n",
      "5\n",
      "6\n",
      "7\n",
      "8\n"
     ]
    }
   ],
   "source": [
    "for i in [1,2,3,4,5,6,7,8]:\n",
    "    print(i)"
   ]
  },
  {
   "cell_type": "code",
   "execution_count": 44,
   "metadata": {},
   "outputs": [
    {
     "name": "stdout",
     "output_type": "stream",
     "text": [
      "1 2 3 4 5 6 7 8 9 10 "
     ]
    }
   ],
   "source": [
    "for i in range(1,10+1):\n",
    "    print(i,end=\" \")"
   ]
  },
  {
   "cell_type": "code",
   "execution_count": 39,
   "metadata": {},
   "outputs": [
    {
     "name": "stdout",
     "output_type": "stream",
     "text": [
      "10\n",
      "9\n",
      "8\n",
      "7\n",
      "6\n",
      "5\n",
      "4\n",
      "3\n",
      "2\n",
      "1\n"
     ]
    }
   ],
   "source": [
    "for i in range(10,1-1,-1):\n",
    "    print(i)"
   ]
  },
  {
   "cell_type": "code",
   "execution_count": null,
   "metadata": {},
   "outputs": [],
   "source": [
    "    step 1         2,5,8      4,7\n",
    "for(initialization;cond;incre/dec){\n",
    "    3,6,9\n",
    "    stements\n",
    "}"
   ]
  }
 ],
 "metadata": {
  "kernelspec": {
   "display_name": "Python 3",
   "language": "python",
   "name": "python3"
  },
  "language_info": {
   "codemirror_mode": {
    "name": "ipython",
    "version": 3
   },
   "file_extension": ".py",
   "mimetype": "text/x-python",
   "name": "python",
   "nbconvert_exporter": "python",
   "pygments_lexer": "ipython3",
   "version": "3.7.1"
  }
 },
 "nbformat": 4,
 "nbformat_minor": 2
}
